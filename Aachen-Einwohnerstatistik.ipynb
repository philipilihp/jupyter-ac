{
 "cells": [
  {
   "cell_type": "markdown",
   "metadata": {},
   "source": [
    "# Stadt Aachen - Einwohnerstatistik"
   ]
  },
  {
   "cell_type": "markdown",
   "metadata": {},
   "source": [
    "Einwohnerstatistik vom 30.6.2018\n",
    "Link: http://offenedaten.aachen.de/dataset/einwohnerstatistik"
   ]
  },
  {
   "cell_type": "code",
   "execution_count": 2,
   "metadata": {},
   "outputs": [
    {
     "data": {
      "text/html": [
       "<div>\n",
       "<style scoped>\n",
       "    .dataframe tbody tr th:only-of-type {\n",
       "        vertical-align: middle;\n",
       "    }\n",
       "\n",
       "    .dataframe tbody tr th {\n",
       "        vertical-align: top;\n",
       "    }\n",
       "\n",
       "    .dataframe thead th {\n",
       "        text-align: right;\n",
       "    }\n",
       "</style>\n",
       "<table border=\"1\" class=\"dataframe\">\n",
       "  <thead>\n",
       "    <tr style=\"text-align: right;\">\n",
       "      <th></th>\n",
       "      <th>Bez</th>\n",
       "      <th>StatBezName</th>\n",
       "      <th>Pers</th>\n",
       "      <th>HW</th>\n",
       "      <th>NW</th>\n",
       "      <th>M</th>\n",
       "      <th>W</th>\n",
       "      <th>LD</th>\n",
       "      <th>VH</th>\n",
       "      <th>VW</th>\n",
       "      <th>...</th>\n",
       "      <th>55-59</th>\n",
       "      <th>60-64</th>\n",
       "      <th>65-69</th>\n",
       "      <th>70-74</th>\n",
       "      <th>75-79</th>\n",
       "      <th>80-84</th>\n",
       "      <th>85-89</th>\n",
       "      <th>90um</th>\n",
       "      <th>Deutsch</th>\n",
       "      <th>Ausl</th>\n",
       "    </tr>\n",
       "  </thead>\n",
       "  <tbody>\n",
       "    <tr>\n",
       "      <th>0</th>\n",
       "      <td>10</td>\n",
       "      <td>Markt</td>\n",
       "      <td>2736</td>\n",
       "      <td>2695</td>\n",
       "      <td>41</td>\n",
       "      <td>1617</td>\n",
       "      <td>1119</td>\n",
       "      <td>1968</td>\n",
       "      <td>529</td>\n",
       "      <td>87</td>\n",
       "      <td>...</td>\n",
       "      <td>108</td>\n",
       "      <td>98</td>\n",
       "      <td>64</td>\n",
       "      <td>71</td>\n",
       "      <td>63</td>\n",
       "      <td>58</td>\n",
       "      <td>21</td>\n",
       "      <td>13</td>\n",
       "      <td>2061</td>\n",
       "      <td>675</td>\n",
       "    </tr>\n",
       "    <tr>\n",
       "      <th>1</th>\n",
       "      <td>13</td>\n",
       "      <td>Theater</td>\n",
       "      <td>2662</td>\n",
       "      <td>2632</td>\n",
       "      <td>30</td>\n",
       "      <td>1512</td>\n",
       "      <td>1150</td>\n",
       "      <td>1846</td>\n",
       "      <td>536</td>\n",
       "      <td>111</td>\n",
       "      <td>...</td>\n",
       "      <td>107</td>\n",
       "      <td>92</td>\n",
       "      <td>88</td>\n",
       "      <td>84</td>\n",
       "      <td>90</td>\n",
       "      <td>75</td>\n",
       "      <td>32</td>\n",
       "      <td>23</td>\n",
       "      <td>2090</td>\n",
       "      <td>572</td>\n",
       "    </tr>\n",
       "    <tr>\n",
       "      <th>2</th>\n",
       "      <td>14</td>\n",
       "      <td>Lindenplatz</td>\n",
       "      <td>4296</td>\n",
       "      <td>4241</td>\n",
       "      <td>55</td>\n",
       "      <td>2332</td>\n",
       "      <td>1964</td>\n",
       "      <td>3150</td>\n",
       "      <td>741</td>\n",
       "      <td>196</td>\n",
       "      <td>...</td>\n",
       "      <td>156</td>\n",
       "      <td>128</td>\n",
       "      <td>111</td>\n",
       "      <td>97</td>\n",
       "      <td>121</td>\n",
       "      <td>130</td>\n",
       "      <td>90</td>\n",
       "      <td>60</td>\n",
       "      <td>3341</td>\n",
       "      <td>955</td>\n",
       "    </tr>\n",
       "    <tr>\n",
       "      <th>3</th>\n",
       "      <td>15</td>\n",
       "      <td>St. Jakob</td>\n",
       "      <td>6365</td>\n",
       "      <td>6300</td>\n",
       "      <td>65</td>\n",
       "      <td>3536</td>\n",
       "      <td>2829</td>\n",
       "      <td>4672</td>\n",
       "      <td>1209</td>\n",
       "      <td>150</td>\n",
       "      <td>...</td>\n",
       "      <td>250</td>\n",
       "      <td>217</td>\n",
       "      <td>153</td>\n",
       "      <td>123</td>\n",
       "      <td>110</td>\n",
       "      <td>83</td>\n",
       "      <td>46</td>\n",
       "      <td>16</td>\n",
       "      <td>5210</td>\n",
       "      <td>1155</td>\n",
       "    </tr>\n",
       "    <tr>\n",
       "      <th>4</th>\n",
       "      <td>16</td>\n",
       "      <td>Westpark</td>\n",
       "      <td>8228</td>\n",
       "      <td>8133</td>\n",
       "      <td>95</td>\n",
       "      <td>4527</td>\n",
       "      <td>3701</td>\n",
       "      <td>5467</td>\n",
       "      <td>2090</td>\n",
       "      <td>309</td>\n",
       "      <td>...</td>\n",
       "      <td>365</td>\n",
       "      <td>310</td>\n",
       "      <td>227</td>\n",
       "      <td>191</td>\n",
       "      <td>217</td>\n",
       "      <td>181</td>\n",
       "      <td>114</td>\n",
       "      <td>55</td>\n",
       "      <td>6721</td>\n",
       "      <td>1507</td>\n",
       "    </tr>\n",
       "  </tbody>\n",
       "</table>\n",
       "<p>5 rows × 34 columns</p>\n",
       "</div>"
      ],
      "text/plain": [
       "   Bez  StatBezName  Pers    HW  NW     M     W    LD    VH   VW  ...   55-59  \\\n",
       "0   10        Markt  2736  2695  41  1617  1119  1968   529   87  ...     108   \n",
       "1   13      Theater  2662  2632  30  1512  1150  1846   536  111  ...     107   \n",
       "2   14  Lindenplatz  4296  4241  55  2332  1964  3150   741  196  ...     156   \n",
       "3   15    St. Jakob  6365  6300  65  3536  2829  4672  1209  150  ...     250   \n",
       "4   16     Westpark  8228  8133  95  4527  3701  5467  2090  309  ...     365   \n",
       "\n",
       "   60-64  65-69  70-74  75-79  80-84  85-89  90um  Deutsch  Ausl  \n",
       "0     98     64     71     63     58     21    13     2061   675  \n",
       "1     92     88     84     90     75     32    23     2090   572  \n",
       "2    128    111     97    121    130     90    60     3341   955  \n",
       "3    217    153    123    110     83     46    16     5210  1155  \n",
       "4    310    227    191    217    181    114    55     6721  1507  \n",
       "\n",
       "[5 rows x 34 columns]"
      ]
     },
     "execution_count": 2,
     "metadata": {},
     "output_type": "execute_result"
    }
   ],
   "source": [
    "import pandas as pd\n",
    "\n",
    "data = pd.read_csv(\"stadt-aachen/uac-open-datadata201806opendataaachen-daten-statistische-bezirkealle.csv\", encoding='ANSI')\n",
    "data.head()"
   ]
  },
  {
   "cell_type": "markdown",
   "metadata": {},
   "source": [
    "## Aachens weiblichster Stadtteil"
   ]
  },
  {
   "cell_type": "code",
   "execution_count": 3,
   "metadata": {},
   "outputs": [
    {
     "data": {
      "text/html": [
       "<div>\n",
       "<style scoped>\n",
       "    .dataframe tbody tr th:only-of-type {\n",
       "        vertical-align: middle;\n",
       "    }\n",
       "\n",
       "    .dataframe tbody tr th {\n",
       "        vertical-align: top;\n",
       "    }\n",
       "\n",
       "    .dataframe thead th {\n",
       "        text-align: right;\n",
       "    }\n",
       "</style>\n",
       "<table border=\"1\" class=\"dataframe\">\n",
       "  <thead>\n",
       "    <tr style=\"text-align: right;\">\n",
       "      <th></th>\n",
       "      <th>StatBezName</th>\n",
       "      <th>percent_W</th>\n",
       "    </tr>\n",
       "  </thead>\n",
       "  <tbody>\n",
       "    <tr>\n",
       "      <th>22</th>\n",
       "      <td>Steinebrück</td>\n",
       "      <td>52.932142</td>\n",
       "    </tr>\n",
       "    <tr>\n",
       "      <th>25</th>\n",
       "      <td>Brand</td>\n",
       "      <td>52.020792</td>\n",
       "    </tr>\n",
       "    <tr>\n",
       "      <th>30</th>\n",
       "      <td>Walheim</td>\n",
       "      <td>51.379262</td>\n",
       "    </tr>\n",
       "    <tr>\n",
       "      <th>18</th>\n",
       "      <td>Forst</td>\n",
       "      <td>51.363874</td>\n",
       "    </tr>\n",
       "    <tr>\n",
       "      <th>32</th>\n",
       "      <td>Laurensberg</td>\n",
       "      <td>51.352891</td>\n",
       "    </tr>\n",
       "  </tbody>\n",
       "</table>\n",
       "</div>"
      ],
      "text/plain": [
       "    StatBezName  percent_W\n",
       "22  Steinebrück  52.932142\n",
       "25        Brand  52.020792\n",
       "30      Walheim  51.379262\n",
       "18        Forst  51.363874\n",
       "32  Laurensberg  51.352891"
      ]
     },
     "execution_count": 3,
     "metadata": {},
     "output_type": "execute_result"
    }
   ],
   "source": [
    "data['percent_W'] = data.W / data.Pers * 100\n",
    "\n",
    "data.sort_values(by=['percent_W'], ascending=False)[['StatBezName', 'percent_W']].head()"
   ]
  },
  {
   "cell_type": "markdown",
   "metadata": {},
   "source": [
    "## Aachens männlichster Stadtteil"
   ]
  },
  {
   "cell_type": "code",
   "execution_count": 4,
   "metadata": {},
   "outputs": [
    {
     "data": {
      "text/html": [
       "<div>\n",
       "<style scoped>\n",
       "    .dataframe tbody tr th:only-of-type {\n",
       "        vertical-align: middle;\n",
       "    }\n",
       "\n",
       "    .dataframe tbody tr th {\n",
       "        vertical-align: top;\n",
       "    }\n",
       "\n",
       "    .dataframe thead th {\n",
       "        text-align: right;\n",
       "    }\n",
       "</style>\n",
       "<table border=\"1\" class=\"dataframe\">\n",
       "  <thead>\n",
       "    <tr style=\"text-align: right;\">\n",
       "      <th></th>\n",
       "      <th>StatBezName</th>\n",
       "      <th>percent_M</th>\n",
       "    </tr>\n",
       "  </thead>\n",
       "  <tbody>\n",
       "    <tr>\n",
       "      <th>7</th>\n",
       "      <td>Ponttor</td>\n",
       "      <td>60.194417</td>\n",
       "    </tr>\n",
       "    <tr>\n",
       "      <th>0</th>\n",
       "      <td>Markt</td>\n",
       "      <td>59.100877</td>\n",
       "    </tr>\n",
       "    <tr>\n",
       "      <th>8</th>\n",
       "      <td>Hansemannplatz</td>\n",
       "      <td>57.582625</td>\n",
       "    </tr>\n",
       "    <tr>\n",
       "      <th>14</th>\n",
       "      <td>Panneschopp</td>\n",
       "      <td>57.053866</td>\n",
       "    </tr>\n",
       "    <tr>\n",
       "      <th>1</th>\n",
       "      <td>Theater</td>\n",
       "      <td>56.799399</td>\n",
       "    </tr>\n",
       "  </tbody>\n",
       "</table>\n",
       "</div>"
      ],
      "text/plain": [
       "       StatBezName  percent_M\n",
       "7          Ponttor  60.194417\n",
       "0            Markt  59.100877\n",
       "8   Hansemannplatz  57.582625\n",
       "14     Panneschopp  57.053866\n",
       "1          Theater  56.799399"
      ]
     },
     "execution_count": 4,
     "metadata": {},
     "output_type": "execute_result"
    }
   ],
   "source": [
    "data['percent_M'] = data.M / data.Pers * 100\n",
    "\n",
    "top5_m_city = data.sort_values(by=['percent_M'], ascending=False)[['StatBezName', 'percent_M']].head()\n",
    "top5_m_city"
   ]
  },
  {
   "cell_type": "code",
   "execution_count": 18,
   "metadata": {},
   "outputs": [
    {
     "data": {
      "text/plain": [
       "[['Markt', 59.10087719298246],\n",
       " ['Theater', 56.79939894815927],\n",
       " ['Lindenplatz', 54.283054003724395],\n",
       " ['St. Jakob', 55.55380989787903],\n",
       " ['Westpark', 55.01944579484687],\n",
       " ['Hanbruch', 49.065934065934066],\n",
       " ['Hörn', 52.22082359287897],\n",
       " ['Ponttor', 60.194416749750744],\n",
       " ['Hansemannplatz', 57.58262511803588],\n",
       " ['Soers', 48.844537815126046],\n",
       " ['Jülicher Str.', 55.96746232831045],\n",
       " ['Kalkofen', 50.59040590405905],\n",
       " ['Kaiserplatz', 56.349894684673515],\n",
       " ['Adalbertsteinweg', 56.757299086987054],\n",
       " ['Panneschopp', 57.05386588493953],\n",
       " ['Rothe Erde', 53.486529318542],\n",
       " ['Trierer Str.', 51.174934725848566],\n",
       " ['Frankenberg', 52.204605948385606],\n",
       " ['Forst', 48.636125850085946],\n",
       " ['Beverau', 48.99328859060403],\n",
       " ['Burtsch. Kurgarten', 53.53636545782409],\n",
       " ['Burtscheider Abtei', 51.440439501540936],\n",
       " ['Steinebrück', 47.067858140184306],\n",
       " ['Marschiertor', 54.967666078777185],\n",
       " ['Hangeweiher', 49.29275610801543],\n",
       " ['Brand', 47.97920803644434],\n",
       " ['Eilendorf', 49.27128611608284],\n",
       " ['Haaren', 51.065712217485725],\n",
       " ['Kornelimünster', 48.7717195925704],\n",
       " ['Oberforstbach', 49.46975648075412],\n",
       " ['Walheim', 48.62073843542227],\n",
       " ['Vaalserquartier', 53.71434231378765],\n",
       " ['Laurensberg', 48.64710908573056],\n",
       " ['Richterich', 49.236597405579154]]"
      ]
     },
     "execution_count": 18,
     "metadata": {},
     "output_type": "execute_result"
    }
   ],
   "source": [
    "city_by_percent_male = data[['StatBezName', 'percent_M']]\n",
    "type(city_by_percent_male)\n",
    "city_by_percent_male.values.tolist()\n",
    "\n",
    "\n"
   ]
  },
  {
   "cell_type": "code",
   "execution_count": 21,
   "metadata": {},
   "outputs": [],
   "source": [
    "import matplotlib.pyplot as plt\n",
    "\n",
    "#plt.plot('x', 'y', data=city_by_percent_male.values)\n",
    "\n"
   ]
  },
  {
   "cell_type": "markdown",
   "metadata": {},
   "source": [
    "## Aachens jüngster Stadtteil"
   ]
  },
  {
   "cell_type": "code",
   "execution_count": 35,
   "metadata": {},
   "outputs": [
    {
     "data": {
      "text/html": [
       "<div>\n",
       "<style scoped>\n",
       "    .dataframe tbody tr th:only-of-type {\n",
       "        vertical-align: middle;\n",
       "    }\n",
       "\n",
       "    .dataframe tbody tr th {\n",
       "        vertical-align: top;\n",
       "    }\n",
       "\n",
       "    .dataframe thead th {\n",
       "        text-align: right;\n",
       "    }\n",
       "</style>\n",
       "<table border=\"1\" class=\"dataframe\">\n",
       "  <thead>\n",
       "    <tr style=\"text-align: right;\">\n",
       "      <th></th>\n",
       "      <th>StatBezName</th>\n",
       "      <th>percent_u30</th>\n",
       "    </tr>\n",
       "  </thead>\n",
       "  <tbody>\n",
       "    <tr>\n",
       "      <th>7</th>\n",
       "      <td>Ponttor</td>\n",
       "      <td>60.942173</td>\n",
       "    </tr>\n",
       "    <tr>\n",
       "      <th>3</th>\n",
       "      <td>St. Jakob</td>\n",
       "      <td>55.208170</td>\n",
       "    </tr>\n",
       "    <tr>\n",
       "      <th>0</th>\n",
       "      <td>Markt</td>\n",
       "      <td>54.788012</td>\n",
       "    </tr>\n",
       "    <tr>\n",
       "      <th>2</th>\n",
       "      <td>Lindenplatz</td>\n",
       "      <td>54.539106</td>\n",
       "    </tr>\n",
       "    <tr>\n",
       "      <th>23</th>\n",
       "      <td>Marschiertor</td>\n",
       "      <td>50.073486</td>\n",
       "    </tr>\n",
       "  </tbody>\n",
       "</table>\n",
       "</div>"
      ],
      "text/plain": [
       "     StatBezName  percent_u30\n",
       "7        Ponttor    60.942173\n",
       "3      St. Jakob    55.208170\n",
       "0          Markt    54.788012\n",
       "2    Lindenplatz    54.539106\n",
       "23  Marschiertor    50.073486"
      ]
     },
     "execution_count": 35,
     "metadata": {},
     "output_type": "execute_result"
    }
   ],
   "source": [
    "data['percent_u30'] = (data['0-2'] + data['3-5'] + data['6-9'] + data['10-14'] + data['15-17'] + data['18-19'] \n",
    "                       + data['20-24'] + data['25-29']) / data.Pers * 100\n",
    "\n",
    "data.sort_values(by=['percent_u30'], ascending=False)[['StatBezName', 'percent_u30']].head()"
   ]
  },
  {
   "cell_type": "markdown",
   "metadata": {},
   "source": [
    "## Aachens ältester Stadtteil"
   ]
  },
  {
   "cell_type": "code",
   "execution_count": 36,
   "metadata": {},
   "outputs": [
    {
     "data": {
      "text/html": [
       "<div>\n",
       "<style scoped>\n",
       "    .dataframe tbody tr th:only-of-type {\n",
       "        vertical-align: middle;\n",
       "    }\n",
       "\n",
       "    .dataframe tbody tr th {\n",
       "        vertical-align: top;\n",
       "    }\n",
       "\n",
       "    .dataframe thead th {\n",
       "        text-align: right;\n",
       "    }\n",
       "</style>\n",
       "<table border=\"1\" class=\"dataframe\">\n",
       "  <thead>\n",
       "    <tr style=\"text-align: right;\">\n",
       "      <th></th>\n",
       "      <th>StatBezName</th>\n",
       "      <th>percent_ü60</th>\n",
       "    </tr>\n",
       "  </thead>\n",
       "  <tbody>\n",
       "    <tr>\n",
       "      <th>22</th>\n",
       "      <td>Steinebrück</td>\n",
       "      <td>35.492879</td>\n",
       "    </tr>\n",
       "    <tr>\n",
       "      <th>30</th>\n",
       "      <td>Walheim</td>\n",
       "      <td>33.427642</td>\n",
       "    </tr>\n",
       "    <tr>\n",
       "      <th>28</th>\n",
       "      <td>Kornelimünster</td>\n",
       "      <td>32.654284</td>\n",
       "    </tr>\n",
       "    <tr>\n",
       "      <th>29</th>\n",
       "      <td>Oberforstbach</td>\n",
       "      <td>32.266300</td>\n",
       "    </tr>\n",
       "    <tr>\n",
       "      <th>33</th>\n",
       "      <td>Richterich</td>\n",
       "      <td>31.775916</td>\n",
       "    </tr>\n",
       "  </tbody>\n",
       "</table>\n",
       "</div>"
      ],
      "text/plain": [
       "       StatBezName  percent_ü60\n",
       "22     Steinebrück    35.492879\n",
       "30         Walheim    33.427642\n",
       "28  Kornelimünster    32.654284\n",
       "29   Oberforstbach    32.266300\n",
       "33      Richterich    31.775916"
      ]
     },
     "execution_count": 36,
     "metadata": {},
     "output_type": "execute_result"
    }
   ],
   "source": [
    "# 60-64,65-69,70-74,75-79,80-84,85-89,90um\n",
    "data['percent_ü60'] = (data['60-64'] + data['65-69'] + data['70-74'] + data['75-79'] + data['80-84'] + data['85-89'] \n",
    "                       + data['90um']) / data.Pers * 100\n",
    "\n",
    "data.sort_values(by=['percent_ü60'], ascending=False)[['StatBezName', 'percent_ü60']].head()"
   ]
  },
  {
   "cell_type": "markdown",
   "metadata": {},
   "source": [
    "## Geschiedene"
   ]
  },
  {
   "cell_type": "code",
   "execution_count": 39,
   "metadata": {},
   "outputs": [
    {
     "data": {
      "text/html": [
       "<div>\n",
       "<style scoped>\n",
       "    .dataframe tbody tr th:only-of-type {\n",
       "        vertical-align: middle;\n",
       "    }\n",
       "\n",
       "    .dataframe tbody tr th {\n",
       "        vertical-align: top;\n",
       "    }\n",
       "\n",
       "    .dataframe thead th {\n",
       "        text-align: right;\n",
       "    }\n",
       "</style>\n",
       "<table border=\"1\" class=\"dataframe\">\n",
       "  <thead>\n",
       "    <tr style=\"text-align: right;\">\n",
       "      <th></th>\n",
       "      <th>StatBezName</th>\n",
       "      <th>percent_gs</th>\n",
       "    </tr>\n",
       "  </thead>\n",
       "  <tbody>\n",
       "    <tr>\n",
       "      <th>15</th>\n",
       "      <td>Rothe Erde</td>\n",
       "      <td>10.380349</td>\n",
       "    </tr>\n",
       "    <tr>\n",
       "      <th>16</th>\n",
       "      <td>Trierer Str.</td>\n",
       "      <td>9.300012</td>\n",
       "    </tr>\n",
       "    <tr>\n",
       "      <th>14</th>\n",
       "      <td>Panneschopp</td>\n",
       "      <td>8.489068</td>\n",
       "    </tr>\n",
       "    <tr>\n",
       "      <th>25</th>\n",
       "      <td>Brand</td>\n",
       "      <td>8.182455</td>\n",
       "    </tr>\n",
       "    <tr>\n",
       "      <th>26</th>\n",
       "      <td>Eilendorf</td>\n",
       "      <td>8.175658</td>\n",
       "    </tr>\n",
       "  </tbody>\n",
       "</table>\n",
       "</div>"
      ],
      "text/plain": [
       "     StatBezName  percent_gs\n",
       "15    Rothe Erde   10.380349\n",
       "16  Trierer Str.    9.300012\n",
       "14   Panneschopp    8.489068\n",
       "25         Brand    8.182455\n",
       "26     Eilendorf    8.175658"
      ]
     },
     "execution_count": 39,
     "metadata": {},
     "output_type": "execute_result"
    }
   ],
   "source": [
    "data['percent_gs'] = data.GS / data.Pers * 100\n",
    "data.sort_values(by=['percent_gs'], ascending=False)[['StatBezName', 'percent_gs']].head()"
   ]
  },
  {
   "cell_type": "markdown",
   "metadata": {},
   "source": [
    "## Verheiratete"
   ]
  },
  {
   "cell_type": "code",
   "execution_count": 41,
   "metadata": {},
   "outputs": [
    {
     "data": {
      "text/html": [
       "<div>\n",
       "<style scoped>\n",
       "    .dataframe tbody tr th:only-of-type {\n",
       "        vertical-align: middle;\n",
       "    }\n",
       "\n",
       "    .dataframe tbody tr th {\n",
       "        vertical-align: top;\n",
       "    }\n",
       "\n",
       "    .dataframe thead th {\n",
       "        text-align: right;\n",
       "    }\n",
       "</style>\n",
       "<table border=\"1\" class=\"dataframe\">\n",
       "  <thead>\n",
       "    <tr style=\"text-align: right;\">\n",
       "      <th></th>\n",
       "      <th>StatBezName</th>\n",
       "      <th>percent_vh</th>\n",
       "    </tr>\n",
       "  </thead>\n",
       "  <tbody>\n",
       "    <tr>\n",
       "      <th>29</th>\n",
       "      <td>Oberforstbach</td>\n",
       "      <td>48.743126</td>\n",
       "    </tr>\n",
       "    <tr>\n",
       "      <th>30</th>\n",
       "      <td>Walheim</td>\n",
       "      <td>48.111473</td>\n",
       "    </tr>\n",
       "    <tr>\n",
       "      <th>19</th>\n",
       "      <td>Beverau</td>\n",
       "      <td>47.890700</td>\n",
       "    </tr>\n",
       "    <tr>\n",
       "      <th>25</th>\n",
       "      <td>Brand</td>\n",
       "      <td>46.653428</td>\n",
       "    </tr>\n",
       "    <tr>\n",
       "      <th>33</th>\n",
       "      <td>Richterich</td>\n",
       "      <td>46.561818</td>\n",
       "    </tr>\n",
       "  </tbody>\n",
       "</table>\n",
       "</div>"
      ],
      "text/plain": [
       "      StatBezName  percent_vh\n",
       "29  Oberforstbach   48.743126\n",
       "30        Walheim   48.111473\n",
       "19        Beverau   47.890700\n",
       "25          Brand   46.653428\n",
       "33     Richterich   46.561818"
      ]
     },
     "execution_count": 41,
     "metadata": {},
     "output_type": "execute_result"
    }
   ],
   "source": [
    "data['percent_vh'] = data.VH / data.Pers * 100\n",
    "data.sort_values(by=['percent_vh'], ascending=False)[['StatBezName', 'percent_vh']].head()"
   ]
  },
  {
   "cell_type": "markdown",
   "metadata": {},
   "source": [
    "## Anzahl Einwohner"
   ]
  },
  {
   "cell_type": "code",
   "execution_count": 46,
   "metadata": {},
   "outputs": [
    {
     "name": "stdout",
     "output_type": "stream",
     "text": [
      "254993\n",
      "132940\n",
      "122053\n"
     ]
    }
   ],
   "source": [
    "print(data['Pers'].sum())\n",
    "print(data['M'].sum())\n",
    "print(data['W'].sum())"
   ]
  },
  {
   "cell_type": "code",
   "execution_count": null,
   "metadata": {},
   "outputs": [],
   "source": []
  }
 ],
 "metadata": {
  "kernelspec": {
   "display_name": "Python 3",
   "language": "python",
   "name": "python3"
  },
  "language_info": {
   "codemirror_mode": {
    "name": "ipython",
    "version": 3
   },
   "file_extension": ".py",
   "mimetype": "text/x-python",
   "name": "python",
   "nbconvert_exporter": "python",
   "pygments_lexer": "ipython3",
   "version": "3.7.1"
  }
 },
 "nbformat": 4,
 "nbformat_minor": 2
}
